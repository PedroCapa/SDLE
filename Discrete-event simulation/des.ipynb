{
 "cells": [
  {
   "cell_type": "code",
   "execution_count": null,
   "metadata": {},
   "outputs": [],
   "source": [
    "import networkx as nx\n",
    "import matplotlib.pyplot as plt\n",
    "import random"
   ]
  },
  {
   "cell_type": "code",
   "execution_count": null,
   "metadata": {},
   "outputs": [],
   "source": [
    "class Sim:\n",
    "    #nodes é uma lista com os nodos\n",
    "    #distances é uma lista de tuplo com destino origem, e a distancia\n",
    "    def __init__(self, nodes, distances):\n",
    "        self.nodes = nodes\n",
    "        self.distances = distances\n",
    "        self.time = 0\n",
    "        self.pending = [] #lista de eventos\n",
    "\n",
    "    def start():\n",
    "        \n",
    "        \n",
    "#Class node\n",
    "    #tem o Handle\n",
    "    \n",
    "#class sim\n",
    "    #__init__  ->Escolhido os nodos e os vizinhos\n",
    "    #start      -> Envia as primeiras mensagens para eles proprios, ou \n",
    "    #run_llop\n",
    "    \n",
    "#É criado o grafo "
   ]
  }
 ],
 "metadata": {
  "kernelspec": {
   "display_name": "Python 3",
   "language": "python",
   "name": "python3"
  },
  "language_info": {
   "codemirror_mode": {
    "name": "ipython",
    "version": 3
   },
   "file_extension": ".py",
   "mimetype": "text/x-python",
   "name": "python",
   "nbconvert_exporter": "python",
   "pygments_lexer": "ipython3",
   "version": "3.6.9"
  }
 },
 "nbformat": 4,
 "nbformat_minor": 4
}
