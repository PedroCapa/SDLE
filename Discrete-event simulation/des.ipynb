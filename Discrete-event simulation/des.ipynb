{
 "cells": [
  {
   "cell_type": "code",
   "execution_count": 2,
   "metadata": {},
   "outputs": [],
   "source": [
    "import networkx as nx\n",
    "import matplotlib.pyplot as plt\n",
    "import random"
   ]
  },
  {
   "cell_type": "code",
   "execution_count": 5,
   "metadata": {},
   "outputs": [],
   "source": [
    "class Sim:\n",
    "    #nodes é uma lista com os nodos\n",
    "    #distances é uma lista de tuplo com destino origem, e a distancia\n",
    "    def __init__(self, nodes, distances):\n",
    "        self.nodes = nodes\n",
    "        self.distances = distances\n",
    "        self.time = 0\n",
    "        self.pending = [] #lista de eventos\n",
    "        # [(delay, (src, dst, msg))]\n",
    "    def start():\n",
    "        pass\n",
    "\n",
    "    def min_delay():\n",
    "        min       = sys.maxint\n",
    "        min_event = self.pending[0]\n",
    "        for event in self.pending:\n",
    "            if(event[0] < min):\n",
    "                min = event[0]\n",
    "                min_event = event\n",
    "\n",
    "    def run_loop():\n",
    "        while(len(self.pending) > 0):\n",
    "            # encontrar o evento com o menor delay\n",
    "            (delay, (src, dst, msg)) = min_delay(self.pending)\n",
    "            next_event = (delay, (src, dst, msg))\n",
    "            self.pending.remove(next_event)\n",
    "            # atualizar o delay de todos os eventos\n",
    "            self.time = self.time + delay\n",
    "            # Correr o handle do nodo (return (msg, [id]))\n",
    "            node = self.nodes[dst]\n",
    "            (message, dest) = node.handle(src, msg)\n",
    "            # Atualizar a lista de eventos\n",
    "            for id in dest:\n",
    "                distance = self.distances.get(node, id)\n",
    "                event = (distance + self.time, (node, id, message))\n",
    "                self.pending.append(event)"
   ]
  },
  {
   "cell_type": "code",
   "execution_count": null,
   "metadata": {},
   "outputs": [],
   "source": []
  }
 ],
 "metadata": {
  "kernelspec": {
   "display_name": "Python 3",
   "language": "python",
   "name": "python3"
  },
  "language_info": {
   "codemirror_mode": {
    "name": "ipython",
    "version": 3
   },
   "file_extension": ".py",
   "mimetype": "text/x-python",
   "name": "python",
   "nbconvert_exporter": "python",
   "pygments_lexer": "ipython3",
   "version": "3.7.4-final"
  }
 },
 "nbformat": 4,
 "nbformat_minor": 4
}