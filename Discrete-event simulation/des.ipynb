{
 "cells": [
  {
   "cell_type": "code",
   "execution_count": 1,
   "metadata": {},
   "outputs": [],
   "source": [
    "import networkx as nx\n",
    "import matplotlib.pyplot as plt\n",
    "import random"
   ]
  },
  {
   "cell_type": "code",
   "execution_count": 2,
   "metadata": {},
   "outputs": [],
   "source": [
    "class Sim:\n",
    "    #nodes é uma lista com os nodos\n",
    "    #distances é um Map {(0, 1): 100, (1,2): 23} origem, destino e distancia\n",
    "    def __init__(self, nodes, distances):\n",
    "        self.nodes = nodes\n",
    "        self.distances = distances\n",
    "        self.time = 0\n",
    "        self.pending = [] #lista de eventos\n",
    "\n",
    "    def start(self, initial_msg):\n",
    "        x = randrange(0, len(self.nodes))\n",
    "        first = self.nodes[x]\n",
    "        first_event = (0, (None, first, initial_msg))\n",
    "        self.pending.append(first_event)\n",
    "        self.run_loop()\n",
    "        \n",
    "        \n",
    "#Class node\n",
    "    #tem o Handle"
   ]
  }
 ],
 "metadata": {
  "kernelspec": {
   "display_name": "Python 3",
   "language": "python",
   "name": "python3"
  },
  "language_info": {
   "codemirror_mode": {
    "name": "ipython",
    "version": 3
   },
   "file_extension": ".py",
   "mimetype": "text/x-python",
   "name": "python",
   "nbconvert_exporter": "python",
   "pygments_lexer": "ipython3",
   "version": "3.6.9"
  }
 },
 "nbformat": 4,
 "nbformat_minor": 4
}
