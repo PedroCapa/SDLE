{
 "cells": [
  {
   "cell_type": "code",
   "execution_count": 1,
   "metadata": {},
   "outputs": [],
   "source": [
    "import networkx as nx\n",
    "import matplotlib.pyplot as plt\n",
    "import random\n",
    "import time\n",
    "import sys\n",
    "from Broadcast import Broadcast"
   ]
  },
  {
   "cell_type": "code",
   "execution_count": 2,
   "metadata": {},
   "outputs": [],
   "source": [
    "def min_delay(pending):\n",
    "    min_ = 9223372036854775807\n",
    "    min_event = pending[0]\n",
    "    for event in pending:\n",
    "        if(event[0] < min_):\n",
    "            min_ = event[0]\n",
    "            min_event = event\n",
    "    return min_event"
   ]
  },
  {
   "cell_type": "code",
   "execution_count": 3,
   "metadata": {},
   "outputs": [],
   "source": [
    "class Sim:\n",
    "    #nodes é uma lista com os nodos\n",
    "    #distances é um Map {(0, 1): 100, (1,2): 23} origem, destino e distancia\n",
    "    def __init__(self, nodes, distances):\n",
    "        self.nodes = nodes\n",
    "        self.distances = distances\n",
    "        self.time = 0\n",
    "        self.pending = [] #lista de eventos\n",
    "        # [(delay, (src, dst, msg))]\n",
    "        self.visitar = self.full_vis()\n",
    "    \n",
    "    def full_vis(self):\n",
    "        vis = []\n",
    "        for node in self.nodes:\n",
    "            name = node.name\n",
    "            vis.append(name)\n",
    "        return vis\n",
    "    \n",
    "    def start(self):\n",
    "        self.pending = [(20, (0, 1, \"first!!\"))]\n",
    "        self.run_loop()\n",
    "        \n",
    "    def run_loop(self):\n",
    "        while(len(self.pending) > 0 and len(self.visitar) > 0):\n",
    "            print(self.pending)\n",
    "            print()\n",
    "            # encontrar o evento com o menor delay\n",
    "            (delay, (src, dst, msg)) = min_delay(self.pending)\n",
    "            next_event = (delay, (src, dst, msg))\n",
    "            self.pending.remove(next_event)\n",
    "            # atualizar o delay de todos os eventos\n",
    "            self.time = delay\n",
    "            # Correr o handle do nodo (return (msg, [id]))\n",
    "            node = self.nodes[dst]\n",
    "            (message, dest) = node.handle(src, msg)\n",
    "            if src in self.visitar:\n",
    "                self.visitar.remove(src)\n",
    "            # Atualizar a lista de eventos\n",
    "            for id in dest:\n",
    "                distance = self.distances.get(node, id)\n",
    "                event = (distance + self.time, (node.name, id, message))\n",
    "                self.pending.append(event)"
   ]
  },
  {
   "cell_type": "code",
   "execution_count": 4,
   "metadata": {},
   "outputs": [
    {
     "name": "stdout",
     "output_type": "stream",
     "text": [
      "[(20, (0, 1, 'first!!'))]\n",
      "\n",
      "[(20, (1, 0, 'first!!')), (22, (1, 2, 'first!!'))]\n",
      "\n",
      "[(22, (1, 2, 'first!!')), (21, (0, 1, 'first!!')), (23, (0, 3, 'first!!'))]\n",
      "\n",
      "[(22, (1, 2, 'first!!')), (23, (0, 3, 'first!!')), (21, (1, 0, 'first!!')), (23, (1, 2, 'first!!'))]\n",
      "\n",
      "[(22, (1, 2, 'first!!')), (23, (0, 3, 'first!!')), (23, (1, 2, 'first!!')), (22, (0, 1, 'first!!')), (24, (0, 3, 'first!!'))]\n",
      "\n",
      "[(23, (0, 3, 'first!!')), (23, (1, 2, 'first!!')), (22, (0, 1, 'first!!')), (24, (0, 3, 'first!!')), (23, (2, 1, 'first!!'))]\n",
      "\n",
      "[(23, (0, 3, 'first!!')), (23, (1, 2, 'first!!')), (24, (0, 3, 'first!!')), (23, (2, 1, 'first!!')), (22, (1, 0, 'first!!')), (24, (1, 2, 'first!!'))]\n",
      "\n",
      "[(23, (0, 3, 'first!!')), (23, (1, 2, 'first!!')), (24, (0, 3, 'first!!')), (23, (2, 1, 'first!!')), (24, (1, 2, 'first!!')), (23, (0, 1, 'first!!')), (25, (0, 3, 'first!!'))]\n",
      "\n",
      "[(23, (1, 2, 'first!!')), (24, (0, 3, 'first!!')), (23, (2, 1, 'first!!')), (24, (1, 2, 'first!!')), (23, (0, 1, 'first!!')), (25, (0, 3, 'first!!')), (23, (3, 0, 'first!!'))]\n",
      "\n",
      "[(24, (0, 3, 'first!!')), (23, (2, 1, 'first!!')), (24, (1, 2, 'first!!')), (23, (0, 1, 'first!!')), (25, (0, 3, 'first!!')), (23, (3, 0, 'first!!')), (24, (2, 1, 'first!!'))]\n",
      "\n",
      "[(24, (0, 3, 'first!!')), (24, (1, 2, 'first!!')), (23, (0, 1, 'first!!')), (25, (0, 3, 'first!!')), (23, (3, 0, 'first!!')), (24, (2, 1, 'first!!')), (23, (1, 0, 'first!!')), (25, (1, 2, 'first!!'))]\n",
      "\n",
      "[(24, (0, 3, 'first!!')), (24, (1, 2, 'first!!')), (25, (0, 3, 'first!!')), (23, (3, 0, 'first!!')), (24, (2, 1, 'first!!')), (23, (1, 0, 'first!!')), (25, (1, 2, 'first!!')), (23, (1, 0, 'first!!')), (25, (1, 2, 'first!!'))]\n",
      "\n"
     ]
    }
   ],
   "source": [
    "node0 = Broadcast(0, [1,3])\n",
    "node1 = Broadcast(1, [0, 2])\n",
    "node2 = Broadcast(2, [1])\n",
    "node3 = Broadcast(3, [0])\n",
    "sim = Sim([node0, node1, node2, node3], {(0, 1): 10, (1, 2): 10, (0, 3): 10})\n",
    "sim.start()"
   ]
  }
 ],
 "metadata": {
  "jupytext": {
   "formats": "ipynb,md"
  },
  "kernelspec": {
   "display_name": "Python 3",
   "language": "python",
   "name": "python3"
  },
  "language_info": {
   "codemirror_mode": {
    "name": "ipython",
    "version": 3
   },
   "file_extension": ".py",
   "mimetype": "text/x-python",
   "name": "python",
   "nbconvert_exporter": "python",
   "pygments_lexer": "ipython3",
   "version": "3.6.9"
  },
  "latex_envs": {
   "LaTeX_envs_menu_present": true,
   "autoclose": false,
   "autocomplete": true,
   "bibliofile": "biblio.bib",
   "cite_by": "apalike",
   "current_citInitial": 1,
   "eqLabelWithNumbers": true,
   "eqNumInitial": 1,
   "hotkeys": {
    "equation": "Ctrl-E",
    "itemize": "Ctrl-I"
   },
   "labels_anchors": false,
   "latex_user_defs": false,
   "report_style_numbering": false,
   "user_envs_cfg": false
  }
 },
 "nbformat": 4,
 "nbformat_minor": 4
}
