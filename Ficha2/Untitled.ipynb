{
 "cells": [
  {
   "cell_type": "code",
   "execution_count": 1,
   "metadata": {},
   "outputs": [],
   "source": [
    "#!/usr/bin/python3\n",
    "\n",
    "\n",
    "import networkx as nx\n",
    "import matplotlib.pyplot as plt\n",
    "import random\n",
    "\n",
    "G = nx.Graph()\n",
    "Y = list()\n",
    "X = range(1,10)\n",
    "arestas = []\n",
    "tam = 0\n",
    "\n",
    "def create_graph(num):\n",
    "\tG.clear()\n",
    "\tH = nx.path_graph(num)\n",
    "\tG.add_nodes_from(H)\n",
    "\n",
    "def create_list(num):\n",
    "\tglobal arestas, tam\n",
    "\ti = 0\n",
    "\ttam = num\n",
    "\tarestas = []\n",
    "\twhile i < num:\n",
    "\t\tarestas.append((i, 1))\n",
    "\t\ti = i + 1\n",
    "\n",
    "def add_aresta(num1, num2):\n",
    "\tglobal tam, arestas\n",
    "\tarestas[num1] = (arestas[num1][0], arestas[num1][1] + 1)\n",
    "\tarestas[num2] = (arestas[num2][0], arestas[num2][1] + 1)\n",
    "\ttam += 2\n",
    "\n",
    "def get_node(num):\n",
    "\tacum = 0\n",
    "\tfor x in arestas:\n",
    "\t\tacum = acum + (x[1] / tam)\n",
    "\t\tif acum >= num:\n",
    "\t\t\treturn x[0]\n",
    "\treturn 1\n",
    "\n",
    "def add_connection(num):\n",
    "\tx = 0\n",
    "\ty = 0\n",
    "\te = (x, y)\n",
    "\twhile x == y or G.has_edge(*e):\n",
    "\t\tval1 = random.uniform(0, 1)\n",
    "\t\tval2 = random.uniform(0, 1)\n",
    "\t\tx = get_node(val1)\n",
    "\t\ty = get_node(val2)\n",
    "\t\te = (x, y)\n",
    "\tG.add_edge(*e)\n",
    "\tadd_aresta(x, y)\n",
    "\n",
    "def add_connections(num):\n",
    "\twhile not nx.is_connected(G):\n",
    "\t\tadd_connection(num)\n",
    "\n",
    "for x in X:\n",
    "\tcreate_graph(x)\n",
    "\tcreate_list(x)\n",
    "\tadd_connections(x)\n",
    "\tgraph_size = G.number_of_edges()\n",
    "\tY.append(graph_size)"
   ]
  },
  {
   "cell_type": "code",
   "execution_count": 2,
   "metadata": {},
   "outputs": [
    {
     "data": {
      "image/png": "[encoded data removed]",
      "text/plain": [
       "<Figure size 432x288 with 1 Axes>"
      ]
     },
     "metadata": {
      "needs_background": "light"
     },
     "output_type": "display_data"
    }
   ],
   "source": [
    "def generateGraph(X, Y):\n",
    "    plt.plot(X, Y)\n",
    "    plt.ylabel('Number of edges')\n",
    "    plt.xlabel('Number of nodes')\n",
    "    plt.show()\n",
    "\n",
    "generateGraph(X, Y)"
   ]
  }
 ],
 "metadata": {
  "kernelspec": {
   "display_name": "Python 3",
   "language": "python",
   "name": "python3"
  },
  "language_info": {
   "codemirror_mode": {
    "name": "ipython",
    "version": 3
   },
   "file_extension": ".py",
   "mimetype": "text/x-python",
   "name": "python",
   "nbconvert_exporter": "python",
   "pygments_lexer": "ipython3",
   "version": "3.6.9"
  }
 },
 "nbformat": 4,
 "nbformat_minor": 4
}
